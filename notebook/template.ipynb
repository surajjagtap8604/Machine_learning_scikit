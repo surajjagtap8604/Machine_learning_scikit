{
 "cells": [
  {
   "cell_type": "code",
   "execution_count": 1,
   "metadata": {},
   "outputs": [
    {
     "name": "stderr",
     "output_type": "stream",
     "text": [
      "C:\\Users\\Suraj\\AppData\\Local\\Temp\\ipykernel_20712\\2804822633.py:3: DeprecationWarning: \n",
      "Pyarrow will become a required dependency of pandas in the next major release of pandas (pandas 3.0),\n",
      "(to allow more performant data types, such as the Arrow string type, and better interoperability with other libraries)\n",
      "but was not found to be installed on your system.\n",
      "If this would cause problems for you,\n",
      "please provide us feedback at https://github.com/pandas-dev/pandas/issues/54466\n",
      "        \n",
      "  import pandas as pd\n"
     ]
    }
   ],
   "source": [
    "import numpy as np\n",
    "import matplotlib.pyplot as plt\n",
    "import pandas as pd\n",
    "import seaborn as sns\n",
    "from sklearn import linear_model\n",
    "from sklearn.metrics import mean_squared_error,r2_score\n",
    "from sklearn.model_selection import train_test_split\n",
    "import os\n",
    "from sklearn import preprocessing\n",
    "import cProfile"
   ]
  },
  {
   "cell_type": "code",
   "execution_count": null,
   "metadata": {},
   "outputs": [],
   "source": [
    "current_directory = os.getcwd()\n",
    "data_dir = os.path.join(current_directory,\"Datasets\",\"Energy_consumption.csv\")\n",
    "data = pd.read_csv(data_dir)"
   ]
  },
  {
   "cell_type": "code",
   "execution_count": null,
   "metadata": {},
   "outputs": [],
   "source": [
    "def missing_v(df, column_types):\n",
    "    missing = {}\n",
    "    for column in df.columns:\n",
    "        if column_types[column] == 'numerical':\n",
    "            missing[column] = np.count_nonzero((df[column]!=df[column])==1)\n",
    "    print(missing)\n",
    "\n",
    "def get_column_type(df):\n",
    "    column_types = {}\n",
    "    for column in df.columns:\n",
    "        if pd.api.types.is_numeric_dtype(df[column]):\n",
    "            column_types[column] = 'numerical'\n",
    "        elif pd.api.types.is_string_dtype(df[column]) or pd.api.types.is_categorical_dtype(df[column]):\n",
    "            column_types[column] = 'categorical'\n",
    "        else:\n",
    "            column_types[column] = 'other'\n",
    "    return column_types"
   ]
  },
  {
   "cell_type": "code",
   "execution_count": null,
   "metadata": {},
   "outputs": [],
   "source": [
    "def missing_v1(df, column_types):\n",
    "    missing = {}\n",
    "    for column in df.columns:\n",
    "        if column_types[column] == 'numerical':\n",
    "            missing[column] = df[column].isna().sum()\n",
    "    print(missing)"
   ]
  },
  {
   "cell_type": "code",
   "execution_count": null,
   "metadata": {},
   "outputs": [],
   "source": [
    "def zero_count(df, column_types):\n",
    "    zero_counts = {}\n",
    "    for column in df.columns:\n",
    "                \n",
    "        zero_counts[column] = column.count(axis=1)\n",
    "        \n",
    "    print(zero_counts)"
   ]
  },
  {
   "cell_type": "code",
   "execution_count": 1,
   "metadata": {},
   "outputs": [],
   "source": [
    "def unique_count(df,column_types):\n",
    "    unique_counts = {}\n",
    "    for column in df.columns:\n",
    "        if column_types[column] == \"categorical\":\n",
    "            unique_counts[column] = pd.unique(df[column])"
   ]
  }
 ],
 "metadata": {
  "kernelspec": {
   "display_name": "Python 3",
   "language": "python",
   "name": "python3"
  },
  "language_info": {
   "codemirror_mode": {
    "name": "ipython",
    "version": 3
   },
   "file_extension": ".py",
   "mimetype": "text/x-python",
   "name": "python",
   "nbconvert_exporter": "python",
   "pygments_lexer": "ipython3",
   "version": "3.11.4"
  }
 },
 "nbformat": 4,
 "nbformat_minor": 2
}
